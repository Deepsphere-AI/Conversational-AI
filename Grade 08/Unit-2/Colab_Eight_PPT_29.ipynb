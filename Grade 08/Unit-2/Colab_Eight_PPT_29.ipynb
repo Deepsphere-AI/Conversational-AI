{
  "nbformat": 4,
  "nbformat_minor": 0,
  "metadata": {
    "colab": {
      "name": "Untitled109.ipynb",
      "provenance": [],
      "authorship_tag": "ABX9TyN3lBTNAkuEawO2W+S0LqBT",
      "include_colab_link": true
    },
    "kernelspec": {
      "name": "python3",
      "display_name": "Python 3"
    },
    "language_info": {
      "name": "python"
    }
  },
  "cells": [
    {
      "cell_type": "markdown",
      "metadata": {
        "id": "view-in-github",
        "colab_type": "text"
      },
      "source": [
        "<a href=\"https://colab.research.google.com/github/Deepsphere-AI/Conversational-AI/blob/main/Grade%2008/Unit-2/Colab_Eight_PPT_29.ipynb\" target=\"_parent\"><img src=\"https://colab.research.google.com/assets/colab-badge.svg\" alt=\"Open In Colab\"/></a>"
      ]
    },
    {
      "cell_type": "code",
      "execution_count": null,
      "metadata": {
        "id": "Ga1C4hjQMuyi"
      },
      "outputs": [],
      "source": [
        "# \"\"\"\n",
        "# Ex 29.\n",
        "# Plot this data with lines connecting each of the points.\n",
        "# ex- (Student, GPA) --> (1, 3.0) ; (2, 4.0) ; (3, 2.5) ; (4, 3.67) ; (5, 2.0)\n",
        "\n",
        "# Program description : The objective of this program is to plot this data with lines connecting each of the points.\n",
        "\n",
        "# \"\"\"\n",
        "import matplotlib.pyplot as plt\n",
        "import numpy as np\n",
        "\n",
        "points = [3.0, 4.0, 2.5, 3.67, 2.0]\n",
        "\n",
        "length = len(points)\n",
        "\n",
        "for i in range(length):\n",
        "  plt.scatter(i + 1, points[i])\n",
        "\n",
        "X = [i + 1 for i in range(length)]\n",
        "Y = points\n",
        "\n",
        "plt.plot(X, Y)\n",
        "plt.show"
      ]
    }
  ]
}